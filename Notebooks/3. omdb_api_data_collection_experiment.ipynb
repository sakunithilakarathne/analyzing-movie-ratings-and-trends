{
 "cells": [
  {
   "cell_type": "code",
   "execution_count": 2,
   "id": "5f8f072d-1bd1-4d52-bc7b-3b7b2b1cb4ac",
   "metadata": {},
   "outputs": [],
   "source": [
    "import requests\n",
    "import json"
   ]
  },
  {
   "cell_type": "code",
   "execution_count": 3,
   "id": "db322c72-41b5-4a78-9c02-21e8c8876ee7",
   "metadata": {},
   "outputs": [
    {
     "name": "stdout",
     "output_type": "stream",
     "text": [
      "{'Title': 'Star Wars: Episode VII - The Force Awakens', 'Year': '2015', 'Rated': 'PG-13', 'Released': '18 Dec 2015', 'Runtime': '138 min', 'Genre': 'Action, Adventure, Sci-Fi', 'Director': 'J.J. Abrams', 'Writer': 'Lawrence Kasdan, J.J. Abrams, Michael Arndt', 'Actors': 'Daisy Ridley, John Boyega, Oscar Isaac', 'Plot': 'As a new threat to the galaxy rises, Rey, a desert scavenger, and Finn, an ex-stormtrooper, must join Han Solo and Chewbacca to search for the one hope of restoring peace.', 'Language': 'English', 'Country': 'United States, United Kingdom', 'Awards': 'Nominated for 5 Oscars. 64 wins & 140 nominations total', 'Poster': 'https://m.media-amazon.com/images/M/MV5BOTAzODEzNDAzMl5BMl5BanBnXkFtZTgwMDU1MTgzNzE@._V1_SX300.jpg', 'Ratings': [{'Source': 'Internet Movie Database', 'Value': '7.8/10'}, {'Source': 'Rotten Tomatoes', 'Value': '93%'}, {'Source': 'Metacritic', 'Value': '80/100'}], 'Metascore': '80', 'imdbRating': '7.8', 'imdbVotes': '989,068', 'imdbID': 'tt2488496', 'Type': 'movie', 'DVD': 'N/A', 'BoxOffice': '$936,662,225', 'Production': 'N/A', 'Website': 'N/A', 'Response': 'True'}\n"
     ]
    }
   ],
   "source": [
    "response = requests.get(\"http://www.omdbapi.com/?i=tt2488496&apikey=5008c3ab\")\n",
    "print(response.json())\n"
   ]
  },
  {
   "cell_type": "code",
   "execution_count": 5,
   "id": "baca801a-d903-4de8-8ba5-74c84feb184e",
   "metadata": {},
   "outputs": [
    {
     "name": "stdout",
     "output_type": "stream",
     "text": [
      "{\"Title\":\"Star Wars: Episode VII - The Force Awakens\",\"Year\":\"2015\",\"Rated\":\"PG-13\",\"Released\":\"18 Dec 2015\",\"Runtime\":\"138 min\",\"Genre\":\"Action, Adventure, Sci-Fi\",\"Director\":\"J.J. Abrams\",\"Writer\":\"Lawrence Kasdan, J.J. Abrams, Michael Arndt\",\"Actors\":\"Daisy Ridley, John Boyega, Oscar Isaac\",\"Plot\":\"As a new threat to the galaxy rises, Rey, a desert scavenger, and Finn, an ex-stormtrooper, must join Han Solo and Chewbacca to search for the one hope of restoring peace.\",\"Language\":\"English\",\"Country\":\"United States, United Kingdom\",\"Awards\":\"Nominated for 5 Oscars. 64 wins & 140 nominations total\",\"Poster\":\"https://m.media-amazon.com/images/M/MV5BOTAzODEzNDAzMl5BMl5BanBnXkFtZTgwMDU1MTgzNzE@._V1_SX300.jpg\",\"Ratings\":[{\"Source\":\"Internet Movie Database\",\"Value\":\"7.8/10\"},{\"Source\":\"Rotten Tomatoes\",\"Value\":\"93%\"},{\"Source\":\"Metacritic\",\"Value\":\"80/100\"}],\"Metascore\":\"80\",\"imdbRating\":\"7.8\",\"imdbVotes\":\"989,068\",\"imdbID\":\"tt2488496\",\"Type\":\"movie\",\"DVD\":\"N/A\",\"BoxOffice\":\"$936,662,225\",\"Production\":\"N/A\",\"Website\":\"N/A\",\"Response\":\"True\"}\n"
     ]
    }
   ],
   "source": [
    "print(response.text)"
   ]
  },
  {
   "cell_type": "code",
   "execution_count": 13,
   "id": "3cbe4c35-ede5-495e-b87b-691806c49a1d",
   "metadata": {},
   "outputs": [
    {
     "name": "stdout",
     "output_type": "stream",
     "text": [
      "2015\n"
     ]
    }
   ],
   "source": [
    "x = response.json()[\"Year\"]\n",
    "print(x)"
   ]
  },
  {
   "cell_type": "code",
   "execution_count": 22,
   "id": "01a63d69-0a88-438a-9fbc-490ac8d2e5e5",
   "metadata": {},
   "outputs": [],
   "source": [
    "import requests\n",
    "import json\n",
    "import pandas as pd"
   ]
  },
  {
   "cell_type": "code",
   "execution_count": 27,
   "id": "2c8e3770-35c1-4092-9913-a356048dcd00",
   "metadata": {},
   "outputs": [
    {
     "data": {
      "text/html": [
       "<div>\n",
       "<style scoped>\n",
       "    .dataframe tbody tr th:only-of-type {\n",
       "        vertical-align: middle;\n",
       "    }\n",
       "\n",
       "    .dataframe tbody tr th {\n",
       "        vertical-align: top;\n",
       "    }\n",
       "\n",
       "    .dataframe thead th {\n",
       "        text-align: right;\n",
       "    }\n",
       "</style>\n",
       "<table border=\"1\" class=\"dataframe\">\n",
       "  <thead>\n",
       "    <tr style=\"text-align: right;\">\n",
       "      <th></th>\n",
       "      <th>IMDb ID</th>\n",
       "      <th>Movie Runtime</th>\n",
       "      <th>Movie Genre</th>\n",
       "      <th>Domestic Gross</th>\n",
       "      <th>Movie Director</th>\n",
       "      <th>Actor 1</th>\n",
       "      <th>Actor 2</th>\n",
       "      <th>Actor 3</th>\n",
       "      <th>IMDB Rating</th>\n",
       "      <th>RT Rating</th>\n",
       "      <th>Metacritic Rating</th>\n",
       "      <th>IMDB Vote Count</th>\n",
       "    </tr>\n",
       "  </thead>\n",
       "  <tbody>\n",
       "    <tr>\n",
       "      <th>0</th>\n",
       "      <td>tt2488496</td>\n",
       "      <td>138 min</td>\n",
       "      <td>Action, Adventure, Sci-Fi</td>\n",
       "      <td>$936,662,225</td>\n",
       "      <td>J.J. Abrams</td>\n",
       "      <td>Daisy Ridley</td>\n",
       "      <td>John Boyega</td>\n",
       "      <td>Oscar Isaac</td>\n",
       "      <td>7.8/10</td>\n",
       "      <td>93%</td>\n",
       "      <td>80/100</td>\n",
       "      <td>989,068</td>\n",
       "    </tr>\n",
       "    <tr>\n",
       "      <th>1</th>\n",
       "      <td>tt10872600</td>\n",
       "      <td>148 min</td>\n",
       "      <td>Action, Adventure, Fantasy</td>\n",
       "      <td>$814,866,759</td>\n",
       "      <td>Jon Watts</td>\n",
       "      <td>Tom Holland</td>\n",
       "      <td>Zendaya</td>\n",
       "      <td>Benedict Cumberbatch</td>\n",
       "      <td>8.2/10</td>\n",
       "      <td>93%</td>\n",
       "      <td>71/100</td>\n",
       "      <td>931,409</td>\n",
       "    </tr>\n",
       "    <tr>\n",
       "      <th>2</th>\n",
       "      <td>tt6166392</td>\n",
       "      <td>116 min</td>\n",
       "      <td>Adventure, Comedy, Family</td>\n",
       "      <td>$218,402,312</td>\n",
       "      <td>Paul King</td>\n",
       "      <td>Timothée Chalamet</td>\n",
       "      <td>Gustave Die</td>\n",
       "      <td>Murray McArthur</td>\n",
       "      <td>7.0/10</td>\n",
       "      <td>82%</td>\n",
       "      <td>66/100</td>\n",
       "      <td>168,112</td>\n",
       "    </tr>\n",
       "  </tbody>\n",
       "</table>\n",
       "</div>"
      ],
      "text/plain": [
       "      IMDb ID Movie Runtime                 Movie Genre Domestic Gross  \\\n",
       "0   tt2488496       138 min   Action, Adventure, Sci-Fi   $936,662,225   \n",
       "1  tt10872600       148 min  Action, Adventure, Fantasy   $814,866,759   \n",
       "2   tt6166392       116 min   Adventure, Comedy, Family   $218,402,312   \n",
       "\n",
       "  Movie Director            Actor 1       Actor 2                Actor 3  \\\n",
       "0    J.J. Abrams       Daisy Ridley   John Boyega            Oscar Isaac   \n",
       "1      Jon Watts        Tom Holland       Zendaya   Benedict Cumberbatch   \n",
       "2      Paul King  Timothée Chalamet   Gustave Die        Murray McArthur   \n",
       "\n",
       "  IMDB Rating RT Rating Metacritic Rating IMDB Vote Count  \n",
       "0      7.8/10       93%            80/100         989,068  \n",
       "1      8.2/10       93%            71/100         931,409  \n",
       "2      7.0/10       82%            66/100         168,112  "
      ]
     },
     "metadata": {},
     "output_type": "display_data"
    }
   ],
   "source": [
    "df = pd.read_csv(\"highest_grossing_films.csv\")\n",
    "\n",
    "def get_movie_data():\n",
    "    API_KEY = \"5008c3ab\"\n",
    "    all_movie_data = []\n",
    "    list =[\"tt2488496\",\"tt10872600\",\"tt6166392\"]\n",
    "\n",
    "    for each_value in list:\n",
    "        url = f\"http://www.omdbapi.com/?i={each_value}&apikey={API_KEY}\"\n",
    "    \n",
    "        omdb_response = requests.get(url).json()\n",
    "\n",
    "        #movie_title = omdb_response[\"Title\"]\n",
    "        movie_runtime = omdb_response[\"Runtime\"]\n",
    "        movie_genre = omdb_response[\"Genre\"]\n",
    "        movie_box_office = omdb_response[\"BoxOffice\"]\n",
    "        movie_director = omdb_response[\"Director\"]\n",
    "        movie_actor_1 = omdb_response[\"Actors\"].split(\",\")[0]\n",
    "        movie_actor_2 = omdb_response[\"Actors\"].split(\",\")[1]\n",
    "        movie_actor_3 = omdb_response[\"Actors\"].split(\",\")[2]\n",
    "        imdb_rating = omdb_response[\"Ratings\"][0][\"Value\"]\n",
    "        rt_rating = omdb_response[\"Ratings\"][1][\"Value\"]\n",
    "        metacritic_rating = omdb_response[\"Ratings\"][2][\"Value\"]\n",
    "        imdb_votes = omdb_response[\"imdbVotes\"]\n",
    "        all_movie_data.append({\n",
    "            \"IMDb ID\": each_value,\n",
    "            \"Movie Runtime\":movie_runtime,\n",
    "            \"Movie Genre\":movie_genre,\n",
    "            \"Domestic Gross\":movie_box_office,\n",
    "            \"Movie Director\": movie_director,\n",
    "            \"Actor 1\":movie_actor_1,\n",
    "            \"Actor 2\":movie_actor_2,\n",
    "            \"Actor 3\":movie_actor_3,\n",
    "            \"IMDB Rating\":imdb_rating,\n",
    "            \"RT Rating\":rt_rating,\n",
    "            \"Metacritic Rating\":metacritic_rating,\n",
    "            \"IMDB Vote Count\":imdb_votes\n",
    "        })\n",
    "    \n",
    "    omdb_df= pd.DataFrame(data=all_movie_data)\n",
    "    display(omdb_df)\n",
    "\n",
    "\n",
    "get_movie_data()\n",
    "# #getMovieData()"
   ]
  },
  {
   "cell_type": "code",
   "execution_count": null,
   "id": "825444ea-c8c3-4bd9-a785-d59abd671750",
   "metadata": {},
   "outputs": [],
   "source": []
  }
 ],
 "metadata": {
  "kernelspec": {
   "display_name": "Python 3 (ipykernel)",
   "language": "python",
   "name": "python3"
  },
  "language_info": {
   "codemirror_mode": {
    "name": "ipython",
    "version": 3
   },
   "file_extension": ".py",
   "mimetype": "text/x-python",
   "name": "python",
   "nbconvert_exporter": "python",
   "pygments_lexer": "ipython3",
   "version": "3.11.7"
  }
 },
 "nbformat": 4,
 "nbformat_minor": 5
}
